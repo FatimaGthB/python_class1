{
 "cells": [
  {
   "cell_type": "markdown",
   "metadata": {},
   "source": [
    "# the sum class"
   ]
  },
  {
   "cell_type": "code",
   "execution_count": 3,
   "metadata": {},
   "outputs": [
    {
     "name": "stdout",
     "output_type": "stream",
     "text": [
      "error ! try again\n",
      "3\n"
     ]
    }
   ],
   "source": [
    "class Somme:\n",
    "    def __init__(self, n1, n2) :\n",
    "        self.n1 = n1\n",
    "        self.n2 = n2\n",
    "        \n",
    "    def sum(self):\n",
    "        return self.n1 + self.n2\n",
    "    \n",
    "while True:\n",
    "    try:\n",
    "          \n",
    "        nb1 = int(input(\"enter the first term\"))    \n",
    "        nb2 = int(input(\"enter the second term\"))  \n",
    "    except ValueError :\n",
    "        print(\"error ! try again\")  \n",
    "        continue\n",
    "    break\n",
    "        \n",
    "r = Somme(nb1, nb2)\n",
    "print(r.sum())\n",
    "        "
   ]
  },
  {
   "cell_type": "markdown",
   "metadata": {},
   "source": [
    "# the student class"
   ]
  },
  {
   "cell_type": "code",
   "execution_count": 6,
   "metadata": {},
   "outputs": [
    {
     "name": "stdout",
     "output_type": "stream",
     "text": [
      "Student:  Zoé  moyenne:  14.5\n",
      "None\n"
     ]
    }
   ],
   "source": [
    "class Student :\n",
    "    def __init__(self,name, note1, note2):\n",
    "        self.name = name\n",
    "        self.note1 = note1\n",
    "        self.note2 = note2\n",
    "        \n",
    "    def calc_moy(self):\n",
    "        return (self.note1 + self.note2)/2\n",
    "    \n",
    "    def afficher(self):\n",
    "        print(\"Student: \",self.name, \" moyenne: \",self.calc_moy())\n",
    "        \n",
    "while True:\n",
    "    try:\n",
    "        name = str(input(\"enter your name\"))\n",
    "        note1 = int(input(\"enter the first note\"))    \n",
    "        note2 = int(input(\"enter the second note\"))  \n",
    "    except ValueError :\n",
    "        print(\"error ! try again\")  \n",
    "        continue\n",
    "    break\n",
    "\n",
    "test = Student(name, note1, note2)\n",
    "print(test.afficher())\n"
   ]
  },
  {
   "cell_type": "markdown",
   "metadata": {},
   "source": [
    "# the bank account class"
   ]
  },
  {
   "cell_type": "code",
   "execution_count": 12,
   "metadata": {},
   "outputs": [
    {
     "name": "stdout",
     "output_type": "stream",
     "text": [
      "your initial balance is : 860.0\n",
      "the new amount of the account after depositing  450.0  is :  1310.0\n",
      "the new amount of the account after withdrawing  390.0  is :  920.0\n",
      "the new amount of the account  after after application of rate  is :  1196.0\n"
     ]
    }
   ],
   "source": [
    "class account :\n",
    "    #A default constructor that sets the initial balance to zero.\n",
    "    def __init__(self,balance = 0):\n",
    "        self.balance = balance\n",
    "        \n",
    "    # A getBalance function that returns the current balance.\n",
    "    def getBalance(self):\n",
    "        return self.balance\n",
    "    \n",
    "    # A deposit method to deposit a specified amount\n",
    "    def deposit(self, amount):\n",
    "        self.balance += amount\n",
    "    \n",
    "    #A withdraw method to withdraw a specified amount\n",
    "    def withdraw(self, amount):\n",
    "        self.balance -= amount\n",
    "    \n",
    "    #An add_Interest method to add interest to the account.\n",
    "    def add_Interest(self, rate):\n",
    "        self.balance *= 1 + rate\n",
    "\n",
    "while True:\n",
    "    try:\n",
    "        amount = float(input(\"enter initial account balance 1\"))\n",
    "        deposit_ = float(input(\"how much is deposited in the account ?\"))    \n",
    "        withdraw_ = float(input(\"how much is withdrawn on the account ?\"))  \n",
    "    except ValueError :\n",
    "        print(\"error ! try again\")  \n",
    "        continue\n",
    "    break\n",
    "        \n",
    "account1 = account(amount)\n",
    "account1.deposit(deposit_)\n",
    "print(\"your initial balance is :\", amount)\n",
    "print(\"the new amount of the account after depositing \", deposit_, \" is : \", account1.getBalance())\n",
    "account1.withdraw(withdraw_)\n",
    "print(\"the new amount of the account after withdrawing \", withdraw_ ,\" is : \", account1.getBalance())\n",
    "account1.add_Interest(0.3)\n",
    "print(\"the new amount of the account  after after application of rate  is : \", account1.getBalance())\n",
    " \n",
    "        \n",
    "        "
   ]
  }
 ],
 "metadata": {
  "kernelspec": {
   "display_name": "Python 3",
   "language": "python",
   "name": "python3"
  },
  "language_info": {
   "codemirror_mode": {
    "name": "ipython",
    "version": 3
   },
   "file_extension": ".py",
   "mimetype": "text/x-python",
   "name": "python",
   "nbconvert_exporter": "python",
   "pygments_lexer": "ipython3",
   "version": "3.11.4"
  },
  "orig_nbformat": 4
 },
 "nbformat": 4,
 "nbformat_minor": 2
}
